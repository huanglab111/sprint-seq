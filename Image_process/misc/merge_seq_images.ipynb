{
 "cells": [
  {
   "cell_type": "code",
   "execution_count": 1,
   "metadata": {},
   "outputs": [],
   "source": [
    "import os\n",
    "import cv2\n",
    "from skimage.io import imread\n",
    "from skimage.io import imsave\n",
    "from skimage import exposure\n",
    "import sys"
   ]
  },
  {
   "cell_type": "code",
   "execution_count": 2,
   "metadata": {},
   "outputs": [],
   "source": [
    "in_directory = r'\\\\10.10.10.1\\NAS Processed Images\\20210929_seq1_normal_mouseBrain_processed\\stitched'\n",
    "in_directory2 = r'\\\\10.10.10.1\\NAS Processed Images\\20211020_20210929_seq1_normal_mouseBrain_DAPI_processed\\stitched'\n",
    "cyc = 1\n",
    "chn = 'DAPI'\n",
    "cell_im = imread(os.path.join(in_directory2,f'cyc_{cyc}_{chn}.tif'))\n",
    "cell_im = cell_im[(cell_im.shape[1]*2//5):(cell_im.shape[1]*3//5),:(cell_im.shape[1]//2)]\n",
    "rescale_DAPI = exposure.rescale_intensity(cell_im,in_range=(1000, 8000),out_range=(0, 255))"
   ]
  },
  {
   "cell_type": "code",
   "execution_count": 3,
   "metadata": {},
   "outputs": [],
   "source": [
    "TOPHAT_KERNEL_SIZE = 7\n",
    "def tophat_spots(image):\n",
    "    kernel = cv2.getStructuringElement(cv2.MORPH_ELLIPSE,(TOPHAT_KERNEL_SIZE,TOPHAT_KERNEL_SIZE))\n",
    "    return cv2.morphologyEx(image, cv2.MORPH_TOPHAT, kernel)"
   ]
  },
  {
   "cell_type": "markdown",
   "metadata": {},
   "source": [
    "# double color merge"
   ]
  },
  {
   "cell_type": "code",
   "execution_count": null,
   "metadata": {},
   "outputs": [],
   "source": [
    "for cyc in range(2,11):\n",
    "    print(f'processing cycle {cyc}')\n",
    "    im_cy3 = imread(os.path.join(in_directory,f'cyc_{cyc}_cy3.tif'))\n",
    "    im_cy3 = im_cy3[:,:(im_cy3.shape[1]//2)]\n",
    "    im_cy5 = imread(os.path.join(in_directory,f'cyc_{cyc}_cy5.tif'))\n",
    "    im_cy5 = im_cy5[:,:(im_cy5.shape[1]//2)]\n",
    "    rescale_cy3 = exposure.rescale_intensity(im_cy3,in_range=(750, 3100),out_range=(0, 255))\n",
    "    rescale_cy5 = exposure.rescale_intensity(im_cy5,in_range=(800, 8000),out_range=(0, 255))\n",
    "    temp_merge = cv2.merge([rescale_DAPI,rescale_cy3,rescale_cy5])\n",
    "    mergename = f'_cyc_{cyc}' + '_half1-merge.jpg'\n",
    "    cv2.imwrite(in_directory + mergename, temp_merge, [cv2.IMWRITE_JPEG_QUALITY, 80])\n",
    "    #cv2.imwrite(in_directory+'/merged/cyc_' + str(cyc) + '_merge/' + mergename, temp_merge, [cv2.IMWRITE_JPEG_QUALITY, 80])\n",
    "    "
   ]
  },
  {
   "cell_type": "markdown",
   "metadata": {},
   "source": [
    "# double color merge with tophat"
   ]
  },
  {
   "cell_type": "code",
   "execution_count": 5,
   "metadata": {},
   "outputs": [
    {
     "name": "stdout",
     "output_type": "stream",
     "text": [
      "processing cycle 1\n",
      "processing cycle 2\n",
      "processing cycle 3\n",
      "processing cycle 4\n",
      "processing cycle 5\n",
      "processing cycle 6\n",
      "processing cycle 7\n",
      "processing cycle 8\n",
      "processing cycle 9\n",
      "processing cycle 10\n"
     ]
    }
   ],
   "source": [
    "for cyc in range(1,11):\n",
    "    print(f'processing cycle {cyc}')\n",
    "    im_cy3 = imread(os.path.join(in_directory,f'cyc_{cyc}_cy3.tif'))\n",
    "    im_cy3 = im_cy3[(im_cy3.shape[1]*2//5):(im_cy3.shape[1]*3//5),:(im_cy3.shape[1]//2)]\n",
    "    im_cy5 = imread(os.path.join(in_directory,f'cyc_{cyc}_cy5.tif'))\n",
    "    im_cy5 = im_cy5[(im_cy5.shape[1]*2//5):(im_cy5.shape[1]*3//5),:(im_cy5.shape[1]//2)]\n",
    "    im_cy3 = tophat_spots(im_cy3)\n",
    "    im_cy5 = tophat_spots(im_cy5)\n",
    "    rescale_cy3 = exposure.rescale_intensity(im_cy3,in_range=(100, 1000),out_range=(0, 255))\n",
    "    rescale_cy5 = exposure.rescale_intensity(im_cy5,in_range=(200, 2000),out_range=(0, 255))\n",
    "    temp_merge = cv2.merge([rescale_DAPI,rescale_cy3,rescale_cy5])\n",
    "    mergename = f'_cyc_{cyc}' + '_crop_tophat-merge.jpg'\n",
    "    cv2.imwrite(in_directory + mergename, temp_merge, [cv2.IMWRITE_JPEG_QUALITY, 80])"
   ]
  },
  {
   "cell_type": "code",
   "execution_count": null,
   "metadata": {},
   "outputs": [],
   "source": [
    "in_directory = r'\\\\10.10.10.1\\NAS Processed Images\\20210929_seq1_normal_mouseBrain_processed\\density_half_selected\\density'\n",
    "cyc = 5\n",
    "chn = 'cy5'\n",
    "cell_im = imread(os.path.join(in_directory,'Ctgf .tif'))\n",
    "#cell_im = imread(os.path.join(in_directory,f'cyc_{cyc}_{chn}.tif'))\n",
    "#cell_im = cell_im[:,:(cell_im.shape[1]//2)]\n",
    "rescale_cy5 = exposure.rescale_intensity(cell_im,in_range=(0, 4500),out_range=(0, 255))\n",
    "mergename = 'Ctgf.jpg'\n",
    "cv2.imwrite(in_directory + mergename, rescale_cy5, [cv2.IMWRITE_JPEG_QUALITY, 80])"
   ]
  }
 ],
 "metadata": {
  "interpreter": {
   "hash": "b3ba2566441a7c06988d0923437866b63cedc61552a5af99d1f4fb67d367b25f"
  },
  "kernelspec": {
   "display_name": "Python 3.8.5 64-bit ('base': conda)",
   "name": "python3"
  },
  "language_info": {
   "codemirror_mode": {
    "name": "ipython",
    "version": 3
   },
   "file_extension": ".py",
   "mimetype": "text/x-python",
   "name": "python",
   "nbconvert_exporter": "python",
   "pygments_lexer": "ipython3",
   "version": "3.8.5"
  },
  "orig_nbformat": 4
 },
 "nbformat": 4,
 "nbformat_minor": 2
}
