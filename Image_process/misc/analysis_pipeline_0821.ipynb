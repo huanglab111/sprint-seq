{
    "cells": [
        {
            "cell_type": "code",
            "execution_count": 13,
            "metadata": {},
            "outputs": [
                {
                    "name": "stdout",
                    "output_type": "stream",
                    "text": [
                        "E:\\FISH_images_processed\\20210923_Combinatorial_Fluorescent_Barcode_1_processed exists.\n",
                        "E:\\FISH_images_processed\\20210923_Combinatorial_Fluorescent_Barcode_1_processed\\focal_stacked exists.\n",
                        "E:\\FISH_images_processed\\20210923_Combinatorial_Fluorescent_Barcode_1_processed\\stitched exists.\n",
                        "E:\\FISH_images_processed\\20210923_Combinatorial_Fluorescent_Barcode_1_processed\\registered exists.\n",
                        "E:\\FISH_images_processed\\20210923_Combinatorial_Fluorescent_Barcode_1_processed\\report exists.\n"
                    ]
                }
            ],
            "source": [
                "import os\n",
                "from os_snippets import remove_empty_folders\n",
                "import numpy as np\n",
                "import pandas as pd\n",
                "import cv2\n",
                "from scipy.io import loadmat\n",
                "from skimage.io import imread\n",
                "from skimage.io import imsave\n",
                "from glob import glob\n",
                "from tqdm import tqdm\n",
                "import matlab.engine\n",
                "from all_in_focus import all_in_focus\n",
                "from focal_stack_legacy import focal_stack\n",
                "from dft_registration import register_with_ref\n",
                "from dft_registration import register_pair\n",
                "from MIST_run_ijm import create_mist_command\n",
                "from MIST_run_ijm import run_ijm\n",
                "from stitch_meta import stitch_from_meta\n",
                "from cell_rna_report import generate_report\n",
                "from report_xetex import integrate_report\n",
                "\n",
                "base_directory = r'D:\\FISH_images'\n",
                "#base_directory = r'\\\\192.168.12.12\\home\\FISH_DATA_PKU_Archive'\n",
                "base_dest_directory = r'E:\\FISH_images_processed'\n",
                "RUN_ID = '20210923_Combinatorial_Fluorescent_Barcode_1'\n",
                "raw_directory = os.path.join(base_directory,RUN_ID)\n",
                "dest_directory = os.path.join(base_dest_directory,f'{RUN_ID}_processed')\n",
                "aif_directory = os.path.join(dest_directory,'focal_stacked')\n",
                "sdc_directory = os.path.join(dest_directory,'background_corrected')\n",
                "rgs_directory = os.path.join(dest_directory,'registered')\n",
                "stc_directory = os.path.join(dest_directory,'stitched')\n",
                "report_directory = os.path.join(dest_directory,'report')\n",
                "\n",
                "def try_mkdir(d):\n",
                "    try:\n",
                "        os.makedirs(d)\n",
                "    except FileExistsError:\n",
                "        print(f'{d} exists.')\n",
                "        pass\n",
                "\n",
                "try_mkdir(dest_directory)\n",
                "try_mkdir(aif_directory)\n",
                "try_mkdir(stc_directory)\n",
                "try_mkdir(rgs_directory)\n",
                "try_mkdir(report_directory)\n",
                "\n",
                "ref_cycle = 1\n",
                "ref_channel = 'cy3'\n",
                "nuclei_cyc_chn = 'cyc_11_DAPI'\n",
                "report_cyc_chns = ['cyc_2_cy3','cyc_2_cy5']\n",
                "\n",
                "even_less = False\n",
                "cyc_zero = False\n",
                "\n",
                "channels = ['cy3','cy5','FAM','DAPI']\n",
                "#channels = ['cy3','cy5']"
            ]
        },
        {
            "cell_type": "markdown",
            "metadata": {},
            "source": [
                "## All-in-focus Image Stacking"
            ]
        },
        {
            "cell_type": "code",
            "execution_count": 14,
            "metadata": {},
            "outputs": [],
            "source": [
                "def imlist_to_df(imlist):\n",
                "    imlist_2d = [s.strip('.tif').split('-') for s in imlist]\n",
                "    df = pd.DataFrame(imlist_2d, columns=['Cycle','Tile','Channel','Z'])\n",
                "    df = df.loc[:,['Cycle','Tile','Z']]\n",
                "    for column in ['Cycle','Tile','Z']:\n",
                "        df[column] = df[column].apply(lambda x: int(x[1:]))\n",
                "    return df\n",
                "\n",
                "try:\n",
                "    tile_info = loadmat(os.path.join(raw_directory,'TileInfo.mat'))\n",
                "except FileNotFoundError as exc:\n",
                "    raise FileNotFoundError('Tile info file not included') from exc\n",
                "tile_x = int(tile_info['TileX'])\n",
                "tile_y = int(tile_info['TileY'])\n",
                "tile_num = tile_x * tile_y\n",
                "tiles = [i+1 for i in range(tile_num)]\n",
                "cycles = glob(os.path.join(raw_directory,'cyc_*')) if not even_less else glob(os.path.join(raw_directory,'cyc_*[13579]'))\n",
                "cycles += glob(os.path.join(raw_directory,'cyc_0')) if cyc_zero and even_less else []\n",
                "\n",
                "def get_stack_num(path):\n",
                "    sample = [f for f in os.listdir(path) if f.endswith('.tif')][0]\n",
                "    prefix = sample.split('-Z')[0]\n",
                "    stack_num = max([int(f.strip('.tif').split('-Z')[1]) for f in os.listdir(path) if f.startswith(prefix)]) + 1\n",
                "    return stack_num\n",
                "\n",
                "stack_num = get_stack_num(cycles[0])\n",
                "channel_info = {}\n",
                "for channel in channels:\n",
                "    channel_info[channel] = imlist_to_df([f for f in os.listdir(cycles[0]) if channel in f])\n",
                "    if glob(os.path.join(raw_directory,'cyc_*',f'*-{channel}-*')):\n",
                "        eng = matlab.engine.start_matlab()\n",
                "        eng.cd('C:/Users/Dell/Documents/LabView_FISH_PKU/FISH_analysis_pipeline/fstack')\n",
                "        eng.fstack_stacknum_channel(raw_directory,aif_directory,stack_num,channel,nargout=0)\n",
                "        eng.quit()\n",
                "remove_empty_folders(aif_directory)    "
            ]
        },
        {
            "cell_type": "markdown",
            "metadata": {},
            "source": [
                "## Background Shading Correction"
            ]
        },
        {
            "cell_type": "code",
            "execution_count": 15,
            "metadata": {},
            "outputs": [
                {
                    "name": "stdout",
                    "output_type": "stream",
                    "text": [
                        "E:\\FISH_images_processed\\20210923_Combinatorial_Fluorescent_Barcode_1_processed\\background_corrected exists.\n"
                    ]
                }
            ],
            "source": [
                "try_mkdir(sdc_directory)\n",
                "eng = matlab.engine.start_matlab()\n",
                "eng.cd('C:/Users/Dell/Documents/LabView_FISH_PKU/FISH_analysis_pipeline/CIDRE')\n",
                "eng.background_correction(aif_directory,sdc_directory,nargout=0)\n",
                "eng.quit()"
            ]
        },
        {
            "cell_type": "markdown",
            "metadata": {},
            "source": [
                "## Registration"
            ]
        },
        {
            "cell_type": "code",
            "execution_count": 16,
            "metadata": {},
            "outputs": [
                {
                    "name": "stderr",
                    "output_type": "stream",
                    "text": [
                        "100%|██████████| 20/20 [04:13<00:00, 12.66s/it]\n"
                    ]
                }
            ],
            "source": [
                "try:\n",
                "    captured_tiles = list(channel_info[ref_channel]['Tile'].unique())\n",
                "    ref_channel_alt = ref_channel\n",
                "except KeyError:\n",
                "    for key in channel_info:\n",
                "        captured_tiles = list(channel_info[key]['Tile'].unique())\n",
                "        ref_channel_alt = key\n",
                "        break\n",
                "img_names = [f'FocalStack_{t:03d}.tif' for t in captured_tiles]\n",
                "register_with_ref(sdc_directory,rgs_directory,channels,img_names,ref_cycle=ref_cycle,ref_channel=ref_channel_alt)\n"
            ]
        },
        {
            "cell_type": "markdown",
            "metadata": {},
            "source": [
                "## Image Stitching"
            ]
        },
        {
            "cell_type": "code",
            "execution_count": 17,
            "metadata": {},
            "outputs": [],
            "source": [
                "registered_cyc_chn = os.listdir(rgs_directory)\n",
                "IM_SIZE = 2304\n",
                "empty_im = np.zeros((IM_SIZE,IM_SIZE),dtype=np.uint16)\n",
                "for cyc_chn in registered_cyc_chn:\n",
                "    imgs = [f for f in os.listdir(os.path.join(rgs_directory,cyc_chn)) if f.endswith('.tif')]\n",
                "    for tile in tiles:\n",
                "        if f'FocalStack_{tile:03d}.tif' not in imgs:\n",
                "            imsave(os.path.join(rgs_directory,cyc_chn,f'FocalStack_{tile:03d}.tif'),empty_im,check_contrast=False)"
            ]
        },
        {
            "cell_type": "code",
            "execution_count": 18,
            "metadata": {},
            "outputs": [
                {
                    "name": "stderr",
                    "output_type": "stream",
                    "text": [
                        "100%|██████████| 29/29 [00:09<00:00,  2.93it/s]\n"
                    ]
                }
            ],
            "source": [
                "stitch_template = f'cyc_{ref_cycle}_{ref_channel}'\n",
                "create_mist_command(tile_x,tile_y,os.path.join(rgs_directory,stitch_template).replace('\\\\',r'\\\\\\\\'),stc_directory.replace('\\\\',r'\\\\\\\\'))\n",
                "if glob(os.path.join(stc_directory,f'*global*')):\n",
                "    pass\n",
                "else:\n",
                "    run_ijm('MIST_temp.ijm')\n",
                "    # os.rename(os.path.join(stc_directory,'img-stitched-0.tif'),os.path.join(stc_directory,f'{stitch_template}.tif'))\n",
                "stitch_from_meta(stc_directory,rgs_directory)"
            ]
        },
        {
            "cell_type": "markdown",
            "metadata": {},
            "source": [
                "## Cell Segmentation"
            ]
        },
        {
            "cell_type": "code",
            "execution_count": null,
            "metadata": {},
            "outputs": [],
            "source": [
                "if not glob(os.path.join(dest_directory,'CellYX.mat')):\n",
                "    eng = matlab.engine.start_matlab()\n",
                "    eng.cd('C:/Users/Dell/Documents/LabView_FISH_PKU/FISH_analysis_pipeline')\n",
                "    eng.cell_segmentation(os.path.join(stc_directory,f'{nuclei_cyc_chn}.tif'),dest_directory,nargout=0)\n",
                "    eng.quit()\n",
                "else:\n",
                "    print('Already segmented.')"
            ]
        },
        {
            "cell_type": "code",
            "execution_count": null,
            "metadata": {},
            "outputs": [],
            "source": [
                "im = imread(os.path.join(stc_directory,'cyc_1_cy3.tif'))\n",
                "canvas = np.zeros(im.shape,dtype=np.uint16)\n",
                "for i in range(1,11):\n",
                "    for chn in ['cy3','cy5']:\n",
                "        img = imread(os.path.join(stc_directory,f'cyc_{i}_{chn}.tif'))\n",
                "        canvas += img // 20\n",
                "canvas = cv2.GaussianBlur(canvas,(25,25),0)\n",
                "imsave(os.path.join(stc_directory,'mean_cycle.tif'),canvas)"
            ]
        },
        {
            "cell_type": "code",
            "execution_count": null,
            "metadata": {},
            "outputs": [],
            "source": [
                "eng = matlab.engine.start_matlab()\n",
                "eng.cd('C:/Users/Dell/Documents/LabView_FISH_PKU/FISH_analysis_pipeline')\n",
                "eng.cell_segmentation(os.path.join(stc_directory,f'mean_cycle.tif'),dest_directory,nargout=0)\n",
                "eng.quit()"
            ]
        },
        {
            "cell_type": "markdown",
            "metadata": {},
            "source": [
                "## Generate Report"
            ]
        },
        {
            "cell_type": "code",
            "execution_count": null,
            "metadata": {},
            "outputs": [],
            "source": [
                "for cyc_chn in report_cyc_chns:\n",
                "    cyc,chn = cyc_chn.split('_')[1:]\n",
                "    generate_report(RUN_ID,cyc,chn, 4 if chn=='cy5' else 2)\n",
                "integrate_report(RUN_ID,report_directory)\n",
                "os.chdir(r'C:\\Users\\Dell\\Documents\\LabView_FISH_PKU\\FISH_analysis_pipeline')"
            ]
        }
    ],
    "metadata": {
        "interpreter": {
            "hash": "b3ba2566441a7c06988d0923437866b63cedc61552a5af99d1f4fb67d367b25f"
        },
        "kernelspec": {
            "display_name": "Python 3.8.5 64-bit ('base': conda)",
            "name": "python3"
        },
        "language_info": {
            "codemirror_mode": {
                "name": "ipython",
                "version": 3
            },
            "file_extension": ".py",
            "mimetype": "text/x-python",
            "name": "python",
            "nbconvert_exporter": "python",
            "pygments_lexer": "ipython3",
            "version": "3.8.5"
        },
        "orig_nbformat": 4
    },
    "nbformat": 4,
    "nbformat_minor": 2
}
