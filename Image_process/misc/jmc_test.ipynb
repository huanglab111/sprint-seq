{
 "cells": [
  {
   "cell_type": "code",
   "execution_count": 1,
   "metadata": {},
   "outputs": [],
   "source": [
    "import os\n",
    "import numpy as np\n",
    "import pandas as pd\n",
    "import seaborn as sns\n",
    "from tqdm import tqdm\n",
    "import yaml\n",
    "import cv2\n",
    "from skimage.io import imread\n",
    "from skimage.io import imsave\n",
    "import matplotlib\n",
    "import matplotlib.pyplot as plt"
   ]
  },
  {
   "cell_type": "code",
   "execution_count": 6,
   "metadata": {},
   "outputs": [],
   "source": [
    "thresholds = {'cy3': 300,'cy5':500}\n",
    "channels = ['cy3','cy5']\n",
    "intensity_df = pd.read_csv('./intensity_test.csv')"
   ]
  },
  {
   "cell_type": "code",
   "execution_count": 9,
   "metadata": {},
   "outputs": [],
   "source": [
    "def get_seq_df(intensity_df,thresholds):\n",
    "    coordinates = intensity_df[['Y','X']].to_numpy()\n",
    "    bool_df = pd.DataFrame({'Y':coordinates[:,0],'X':coordinates[:,1]})\n",
    "    for cyc in range(1,10+1):\n",
    "        for channel in channels:\n",
    "            bool_df[f'cyc_{cyc}_{channel}'] = intensity_df[f'cyc_{cyc}_{channel}']>=thresholds[channel]# *decay[i]\n",
    "    base_bool_map = {(True,True):'A',(True,False):'T',(False,True):'C',(False,False):'G'}\n",
    "    base_df = pd.DataFrame({'Y':coordinates[:,0],'X':coordinates[:,1]})\n",
    "    for cyc in tqdm(range(1,1+10),desc='Base calling'):\n",
    "        base_df[f'cyc_{cyc}'] = bool_df.apply(lambda x: get_base(x[f'cyc_{cyc}_cy3'],x[f'cyc_{cyc}_cy5']),axis=1)\n",
    "    seq_df = pd.DataFrame({'Y':coordinates[:,0],'X':coordinates[:,1]})\n",
    "    seq_df['Sequence'] = base_df[[f'cyc_{i}' for i in range(1,1+10)]].agg(''.join,axis=1)\n",
    "    return seq_df\n",
    "\n",
    "def get_base(x,y):\n",
    "    if x == y == True:\n",
    "        return 'A'\n",
    "    elif x == True and y == False:\n",
    "        return 'T'\n",
    "    elif x == False and y == True:\n",
    "        return 'C'\n",
    "    else:\n",
    "        return 'G'"
   ]
  },
  {
   "cell_type": "code",
   "execution_count": 12,
   "metadata": {},
   "outputs": [
    {
     "name": "stderr",
     "output_type": "stream",
     "text": [
      "Base calling: 100%|██████████| 10/10 [00:00<00:00, 909.49it/s]\n"
     ]
    }
   ],
   "source": [
    "seq_df = get_seq_df(intensity_df,thresholds)\n",
    "seq_df.to_csv('intensity_test_out.csv')"
   ]
  }
 ],
 "metadata": {
  "interpreter": {
   "hash": "b3ba2566441a7c06988d0923437866b63cedc61552a5af99d1f4fb67d367b25f"
  },
  "kernelspec": {
   "display_name": "Python 3.8.5 64-bit ('base': conda)",
   "name": "python3"
  },
  "language_info": {
   "codemirror_mode": {
    "name": "ipython",
    "version": 3
   },
   "file_extension": ".py",
   "mimetype": "text/x-python",
   "name": "python",
   "nbconvert_exporter": "python",
   "pygments_lexer": "ipython3",
   "version": "3.8.5"
  },
  "orig_nbformat": 4
 },
 "nbformat": 4,
 "nbformat_minor": 2
}
