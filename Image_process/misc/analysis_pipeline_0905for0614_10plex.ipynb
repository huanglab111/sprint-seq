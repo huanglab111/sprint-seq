{
    "cells": [
        {
            "cell_type": "code",
            "execution_count": 1,
            "source": [
                "import os\r\n",
                "from os_snippets import remove_empty_folders\r\n",
                "import numpy as np\r\n",
                "import pandas as pd\r\n",
                "import cv2\r\n",
                "from scipy.io import loadmat\r\n",
                "from skimage.io import imread\r\n",
                "from skimage.io import imsave\r\n",
                "from glob import glob\r\n",
                "from tqdm import tqdm\r\n",
                "import matlab.engine\r\n",
                "from all_in_focus import all_in_focus\r\n",
                "from focal_stack_legacy import focal_stack\r\n",
                "from dft_registration import register_with_ref\r\n",
                "from dft_registration import register_pair\r\n",
                "from MIST_run_ijm import create_mist_command\r\n",
                "from MIST_run_ijm import run_ijm\r\n",
                "from stitch_meta import stitch_from_meta\r\n",
                "from cell_rna_report import generate_report\r\n",
                "from report_xetex import integrate_report\r\n",
                "\r\n",
                "#base_directory = r'D:\\FISH_images'\r\n",
                "base_directory = r'\\\\192.168.12.12\\home\\FISH_DATA_PKU_Archive'\r\n",
                "base_dest_directory = r'E:\\FISH_images_processed'\r\n",
                "RUN_ID = '20210614_brain_10plex_001'\r\n",
                "raw_directory = os.path.join(base_directory,RUN_ID)\r\n",
                "dest_directory = os.path.join(base_dest_directory,f'{RUN_ID}_processed')\r\n",
                "aif_directory = os.path.join(dest_directory,'focal_stacked')\r\n",
                "sdc_directory = os.path.join(dest_directory,'background_corrected')\r\n",
                "rgs_directory = os.path.join(dest_directory,'registered')\r\n",
                "stc_directory = os.path.join(dest_directory,'stitched')\r\n",
                "report_directory = os.path.join(dest_directory,'report')\r\n",
                "\r\n",
                "def try_mkdir(d):\r\n",
                "    try:\r\n",
                "        os.makedirs(d)\r\n",
                "    except FileExistsError:\r\n",
                "        print(f'{d} exists.')\r\n",
                "        pass\r\n",
                "\r\n",
                "try_mkdir(dest_directory)\r\n",
                "try_mkdir(aif_directory)\r\n",
                "try_mkdir(stc_directory)\r\n",
                "try_mkdir(rgs_directory)\r\n",
                "try_mkdir(report_directory)\r\n",
                "\r\n",
                "ref_cycle = 1\r\n",
                "ref_channel = 'cy3'\r\n",
                "nuclei_cyc_chn = 'cyc_10_DAPI'\r\n",
                "report_cyc_chns = ['cyc_2_cy3','cyc_2_cy5']\r\n",
                "\r\n",
                "even_less = False\r\n",
                "cyc_zero = False\r\n",
                "\r\n",
                "#channels = ['cy3','cy5','FAM','DAPI']\r\n",
                "channels = ['cy3','cy5']"
            ],
            "outputs": [
                {
                    "output_type": "stream",
                    "name": "stdout",
                    "text": [
                        "E:\\FISH_images_processed\\20210614_brain_10plex_001_processed exists.\n",
                        "E:\\FISH_images_processed\\20210614_brain_10plex_001_processed\\focal_stacked exists.\n",
                        "E:\\FISH_images_processed\\20210614_brain_10plex_001_processed\\stitched exists.\n",
                        "E:\\FISH_images_processed\\20210614_brain_10plex_001_processed\\registered exists.\n",
                        "E:\\FISH_images_processed\\20210614_brain_10plex_001_processed\\report exists.\n"
                    ]
                }
            ],
            "metadata": {}
        },
        {
            "cell_type": "markdown",
            "source": [
                "## All-in-focus Image Stacking"
            ],
            "metadata": {}
        },
        {
            "cell_type": "code",
            "execution_count": 2,
            "source": [
                "def imlist_to_df(imlist):\r\n",
                "    imlist_2d = [s.strip('.tif').split('-') for s in imlist]\r\n",
                "    df = pd.DataFrame(imlist_2d, columns=['Cycle','Tile','Channel','Z'])\r\n",
                "    df = df.loc[:,['Cycle','Tile','Z']]\r\n",
                "    for column in ['Cycle','Tile','Z']:\r\n",
                "        df[column] = df[column].apply(lambda x: int(x[1:]))\r\n",
                "    return df\r\n",
                "\r\n",
                "try:\r\n",
                "    tile_info = loadmat(os.path.join(raw_directory,'TileInfo.mat'))\r\n",
                "except FileNotFoundError as exc:\r\n",
                "    raise FileNotFoundError('Tile info file not included') from exc\r\n",
                "tile_x = int(tile_info['TileX'])\r\n",
                "tile_y = int(tile_info['TileY'])\r\n",
                "tile_num = tile_x * tile_y\r\n",
                "tiles = [i+1 for i in range(tile_num)]\r\n",
                "cycles = glob(os.path.join(raw_directory,'cyc_*')) if not even_less else glob(os.path.join(raw_directory,'cyc_*[13579]'))\r\n",
                "cycles += glob(os.path.join(raw_directory,'cyc_0')) if cyc_zero and even_less else []\r\n",
                "\r\n",
                "def get_stack_num(path):\r\n",
                "    sample = [f for f in os.listdir(path) if f.endswith('.tif')][0]\r\n",
                "    prefix = sample.split('-Z')[0]\r\n",
                "    stack_num = max([int(f.strip('.tif').split('-Z')[1]) for f in os.listdir(path) if f.startswith(prefix)]) + 1\r\n",
                "    return stack_num\r\n",
                "\r\n",
                "stack_num = get_stack_num(cycles[0])\r\n",
                "channel_info = {}\r\n",
                "for channel in channels:\r\n",
                "    channel_info[channel] = imlist_to_df([f for f in os.listdir(cycles[0]) if channel in f])\r\n",
                "    if glob(os.path.join(raw_directory,'cyc_*',f'*-{channel}-*')):\r\n",
                "        eng = matlab.engine.start_matlab()\r\n",
                "        eng.cd('C:/Users/Dell/Documents/LabView_FISH_PKU/FISH_analysis_pipeline/fstack')\r\n",
                "        eng.fstack_stacknum_channel(raw_directory,aif_directory,stack_num,channel,nargout=0)\r\n",
                "        eng.quit()\r\n",
                "remove_empty_folders(aif_directory)    "
            ],
            "outputs": [],
            "metadata": {}
        },
        {
            "cell_type": "markdown",
            "source": [
                "## Background Shading Correction"
            ],
            "metadata": {}
        },
        {
            "cell_type": "code",
            "execution_count": 3,
            "source": [
                "try_mkdir(sdc_directory)\r\n",
                "eng = matlab.engine.start_matlab()\r\n",
                "eng.cd('C:/Users/Dell/Documents/LabView_FISH_PKU/FISH_analysis_pipeline/CIDRE')\r\n",
                "eng.background_correction(aif_directory,sdc_directory,nargout=0)\r\n",
                "eng.quit()"
            ],
            "outputs": [],
            "metadata": {}
        },
        {
            "cell_type": "markdown",
            "source": [
                "## Registration"
            ],
            "metadata": {}
        },
        {
            "cell_type": "code",
            "execution_count": 4,
            "source": [
                "try:\r\n",
                "    captured_tiles = list(channel_info[ref_channel]['Tile'].unique())\r\n",
                "    ref_channel_alt = ref_channel\r\n",
                "except KeyError:\r\n",
                "    for key in channel_info:\r\n",
                "        captured_tiles = list(channel_info[key]['Tile'].unique())\r\n",
                "        ref_channel_alt = key\r\n",
                "        break\r\n",
                "img_names = [f'FocalStack_{t:03d}.tif' for t in captured_tiles]\r\n",
                "register_with_ref(sdc_directory,rgs_directory,channels,img_names,ref_cycle=ref_cycle,ref_channel=ref_channel_alt)\r\n"
            ],
            "outputs": [
                {
                    "output_type": "stream",
                    "name": "stderr",
                    "text": [
                        "100%|██████████| 50/50 [10:22<00:00, 12.44s/it]\n"
                    ]
                }
            ],
            "metadata": {}
        },
        {
            "cell_type": "markdown",
            "source": [
                "## Image Stitching"
            ],
            "metadata": {}
        },
        {
            "cell_type": "code",
            "execution_count": 6,
            "source": [
                "registered_cyc_chn = os.listdir(rgs_directory)\r\n",
                "empty_im = np.zeros((2048,2048),dtype=np.uint16)\r\n",
                "for cyc_chn in registered_cyc_chn:\r\n",
                "    imgs = [f for f in os.listdir(os.path.join(rgs_directory,cyc_chn)) if f.endswith('.tif')]\r\n",
                "    for tile in tiles:\r\n",
                "        if f'FocalStack_{tile:03d}.tif' not in imgs:\r\n",
                "            imsave(os.path.join(rgs_directory,cyc_chn,f'FocalStack_{tile:03d}.tif'),empty_im)"
            ],
            "outputs": [],
            "metadata": {}
        },
        {
            "cell_type": "code",
            "execution_count": 4,
            "source": [
                "stitch_template = f'cyc_{ref_cycle}_{ref_channel}'\r\n",
                "create_mist_command(tile_x,tile_y,os.path.join(rgs_directory,stitch_template).replace('\\\\',r'\\\\\\\\'),stc_directory.replace('\\\\',r'\\\\\\\\'))\r\n",
                "if glob(os.path.join(stc_directory,f'*global*')):\r\n",
                "    pass\r\n",
                "else:\r\n",
                "    run_ijm('MIST_temp.ijm')\r\n",
                "    # os.rename(os.path.join(stc_directory,'img-stitched-0.tif'),os.path.join(stc_directory,f'{stitch_template}.tif'))\r\n",
                "stitch_from_meta(stc_directory,rgs_directory,stitch_template)"
            ],
            "outputs": [
                {
                    "output_type": "stream",
                    "name": "stderr",
                    "text": [
                        "100%|██████████| 15/15 [04:19<00:00, 17.32s/it]\n"
                    ]
                }
            ],
            "metadata": {}
        },
        {
            "cell_type": "markdown",
            "source": [
                "## Cell Segmentation"
            ],
            "metadata": {}
        },
        {
            "cell_type": "code",
            "execution_count": 7,
            "source": [
                "if not glob(os.path.join(dest_directory,'CellYX.mat')):\r\n",
                "    eng = matlab.engine.start_matlab()\r\n",
                "    eng.cd('C:/Users/Dell/Documents/LabView_FISH_PKU/FISH_analysis_pipeline')\r\n",
                "    eng.cell_segmentation(os.path.join(stc_directory,f'{nuclei_cyc_chn}.tif'),dest_directory,nargout=0)\r\n",
                "    eng.quit()\r\n",
                "else:\r\n",
                "    print('Already segmented.')"
            ],
            "outputs": [
                {
                    "output_type": "error",
                    "ename": "MatlabExecutionError",
                    "evalue": "\n  File C:\\Program Files\\MATLAB\\R2020b\\toolbox\\matlab\\imagesci\\imread.m, line 570, in get_full_filename\n\n  File C:\\Program Files\\MATLAB\\R2020b\\toolbox\\matlab\\imagesci\\imread.m, line 377, in imread\n\n  File C:\\Users\\Dell\\Documents\\LabView_FISH_PKU\\FISH_analysis_pipeline\\cell_segmentation.m, line 3, in cell_segmentation\nFile \"E:\\FISH_images_processed\\20210902-dNTPtest-3_processed\\stitched\\cyc_10_DAPI.tif\" does not exist.\n",
                    "traceback": [
                        "\u001b[1;31m---------------------------------------------------------------------------\u001b[0m",
                        "\u001b[1;31mMatlabExecutionError\u001b[0m                      Traceback (most recent call last)",
                        "\u001b[1;32m<ipython-input-7-1d5c1efa9b49>\u001b[0m in \u001b[0;36m<module>\u001b[1;34m\u001b[0m\n\u001b[0;32m      2\u001b[0m     \u001b[0meng\u001b[0m \u001b[1;33m=\u001b[0m \u001b[0mmatlab\u001b[0m\u001b[1;33m.\u001b[0m\u001b[0mengine\u001b[0m\u001b[1;33m.\u001b[0m\u001b[0mstart_matlab\u001b[0m\u001b[1;33m(\u001b[0m\u001b[1;33m)\u001b[0m\u001b[1;33m\u001b[0m\u001b[1;33m\u001b[0m\u001b[0m\n\u001b[0;32m      3\u001b[0m     \u001b[0meng\u001b[0m\u001b[1;33m.\u001b[0m\u001b[0mcd\u001b[0m\u001b[1;33m(\u001b[0m\u001b[1;34m'C:/Users/Dell/Documents/LabView_FISH_PKU/FISH_analysis_pipeline'\u001b[0m\u001b[1;33m)\u001b[0m\u001b[1;33m\u001b[0m\u001b[1;33m\u001b[0m\u001b[0m\n\u001b[1;32m----> 4\u001b[1;33m     \u001b[0meng\u001b[0m\u001b[1;33m.\u001b[0m\u001b[0mcell_segmentation\u001b[0m\u001b[1;33m(\u001b[0m\u001b[0mos\u001b[0m\u001b[1;33m.\u001b[0m\u001b[0mpath\u001b[0m\u001b[1;33m.\u001b[0m\u001b[0mjoin\u001b[0m\u001b[1;33m(\u001b[0m\u001b[0mstc_directory\u001b[0m\u001b[1;33m,\u001b[0m\u001b[1;34mf'{nuclei_cyc_chn}.tif'\u001b[0m\u001b[1;33m)\u001b[0m\u001b[1;33m,\u001b[0m\u001b[0mdest_directory\u001b[0m\u001b[1;33m,\u001b[0m\u001b[0mnargout\u001b[0m\u001b[1;33m=\u001b[0m\u001b[1;36m0\u001b[0m\u001b[1;33m)\u001b[0m\u001b[1;33m\u001b[0m\u001b[1;33m\u001b[0m\u001b[0m\n\u001b[0m\u001b[0;32m      5\u001b[0m     \u001b[0meng\u001b[0m\u001b[1;33m.\u001b[0m\u001b[0mquit\u001b[0m\u001b[1;33m(\u001b[0m\u001b[1;33m)\u001b[0m\u001b[1;33m\u001b[0m\u001b[1;33m\u001b[0m\u001b[0m\n\u001b[0;32m      6\u001b[0m \u001b[1;32melse\u001b[0m\u001b[1;33m:\u001b[0m\u001b[1;33m\u001b[0m\u001b[1;33m\u001b[0m\u001b[0m\n",
                        "\u001b[1;32mC:\\ProgramData\\Anaconda3\\lib\\site-packages\\matlab\\engine\\matlabengine.py\u001b[0m in \u001b[0;36m__call__\u001b[1;34m(self, *args, **kwargs)\u001b[0m\n\u001b[0;32m     68\u001b[0m             \u001b[1;32mreturn\u001b[0m \u001b[0mFutureResult\u001b[0m\u001b[1;33m(\u001b[0m\u001b[0mself\u001b[0m\u001b[1;33m.\u001b[0m\u001b[0m_engine\u001b[0m\u001b[1;33m(\u001b[0m\u001b[1;33m)\u001b[0m\u001b[1;33m,\u001b[0m \u001b[0mfuture\u001b[0m\u001b[1;33m,\u001b[0m \u001b[0mnargs\u001b[0m\u001b[1;33m,\u001b[0m \u001b[0m_stdout\u001b[0m\u001b[1;33m,\u001b[0m \u001b[0m_stderr\u001b[0m\u001b[1;33m,\u001b[0m \u001b[0mfeval\u001b[0m\u001b[1;33m=\u001b[0m\u001b[1;32mTrue\u001b[0m\u001b[1;33m)\u001b[0m\u001b[1;33m\u001b[0m\u001b[1;33m\u001b[0m\u001b[0m\n\u001b[0;32m     69\u001b[0m         \u001b[1;32melse\u001b[0m\u001b[1;33m:\u001b[0m\u001b[1;33m\u001b[0m\u001b[1;33m\u001b[0m\u001b[0m\n\u001b[1;32m---> 70\u001b[1;33m             return FutureResult(self._engine(), future, nargs, _stdout,\n\u001b[0m\u001b[0;32m     71\u001b[0m                                 _stderr, feval=True).result()\n\u001b[0;32m     72\u001b[0m \u001b[1;33m\u001b[0m\u001b[0m\n",
                        "\u001b[1;32mC:\\ProgramData\\Anaconda3\\lib\\site-packages\\matlab\\engine\\futureresult.py\u001b[0m in \u001b[0;36mresult\u001b[1;34m(self, timeout)\u001b[0m\n\u001b[0;32m     65\u001b[0m                 \u001b[1;32mraise\u001b[0m \u001b[0mTypeError\u001b[0m\u001b[1;33m(\u001b[0m\u001b[0mpythonengine\u001b[0m\u001b[1;33m.\u001b[0m\u001b[0mgetMessage\u001b[0m\u001b[1;33m(\u001b[0m\u001b[1;34m'TimeoutCannotBeNegative'\u001b[0m\u001b[1;33m)\u001b[0m\u001b[1;33m)\u001b[0m\u001b[1;33m\u001b[0m\u001b[1;33m\u001b[0m\u001b[0m\n\u001b[0;32m     66\u001b[0m \u001b[1;33m\u001b[0m\u001b[0m\n\u001b[1;32m---> 67\u001b[1;33m         \u001b[1;32mreturn\u001b[0m \u001b[0mself\u001b[0m\u001b[1;33m.\u001b[0m\u001b[0m__future\u001b[0m\u001b[1;33m.\u001b[0m\u001b[0mresult\u001b[0m\u001b[1;33m(\u001b[0m\u001b[0mtimeout\u001b[0m\u001b[1;33m)\u001b[0m\u001b[1;33m\u001b[0m\u001b[1;33m\u001b[0m\u001b[0m\n\u001b[0m\u001b[0;32m     68\u001b[0m \u001b[1;33m\u001b[0m\u001b[0m\n\u001b[0;32m     69\u001b[0m     \u001b[1;32mdef\u001b[0m \u001b[0mcancel\u001b[0m\u001b[1;33m(\u001b[0m\u001b[0mself\u001b[0m\u001b[1;33m)\u001b[0m\u001b[1;33m:\u001b[0m\u001b[1;33m\u001b[0m\u001b[1;33m\u001b[0m\u001b[0m\n",
                        "\u001b[1;32mC:\\ProgramData\\Anaconda3\\lib\\site-packages\\matlab\\engine\\fevalfuture.py\u001b[0m in \u001b[0;36mresult\u001b[1;34m(self, timeout)\u001b[0m\n\u001b[0;32m     80\u001b[0m                 \u001b[1;32mraise\u001b[0m \u001b[0mTimeoutError\u001b[0m\u001b[1;33m(\u001b[0m\u001b[0mpythonengine\u001b[0m\u001b[1;33m.\u001b[0m\u001b[0mgetMessage\u001b[0m\u001b[1;33m(\u001b[0m\u001b[1;34m'MatlabFunctionTimeout'\u001b[0m\u001b[1;33m)\u001b[0m\u001b[1;33m)\u001b[0m\u001b[1;33m\u001b[0m\u001b[1;33m\u001b[0m\u001b[0m\n\u001b[0;32m     81\u001b[0m \u001b[1;33m\u001b[0m\u001b[0m\n\u001b[1;32m---> 82\u001b[1;33m             \u001b[0mself\u001b[0m\u001b[1;33m.\u001b[0m\u001b[0m_result\u001b[0m \u001b[1;33m=\u001b[0m \u001b[0mpythonengine\u001b[0m\u001b[1;33m.\u001b[0m\u001b[0mgetFEvalResult\u001b[0m\u001b[1;33m(\u001b[0m\u001b[0mself\u001b[0m\u001b[1;33m.\u001b[0m\u001b[0m_future\u001b[0m\u001b[1;33m,\u001b[0m\u001b[0mself\u001b[0m\u001b[1;33m.\u001b[0m\u001b[0m_nargout\u001b[0m\u001b[1;33m,\u001b[0m \u001b[1;32mNone\u001b[0m\u001b[1;33m,\u001b[0m \u001b[0mout\u001b[0m\u001b[1;33m=\u001b[0m\u001b[0mself\u001b[0m\u001b[1;33m.\u001b[0m\u001b[0m_out\u001b[0m\u001b[1;33m,\u001b[0m \u001b[0merr\u001b[0m\u001b[1;33m=\u001b[0m\u001b[0mself\u001b[0m\u001b[1;33m.\u001b[0m\u001b[0m_err\u001b[0m\u001b[1;33m)\u001b[0m\u001b[1;33m\u001b[0m\u001b[1;33m\u001b[0m\u001b[0m\n\u001b[0m\u001b[0;32m     83\u001b[0m             \u001b[0mself\u001b[0m\u001b[1;33m.\u001b[0m\u001b[0m_retrieved\u001b[0m \u001b[1;33m=\u001b[0m \u001b[1;32mTrue\u001b[0m\u001b[1;33m\u001b[0m\u001b[1;33m\u001b[0m\u001b[0m\n\u001b[0;32m     84\u001b[0m             \u001b[1;32mreturn\u001b[0m \u001b[0mself\u001b[0m\u001b[1;33m.\u001b[0m\u001b[0m_result\u001b[0m\u001b[1;33m\u001b[0m\u001b[1;33m\u001b[0m\u001b[0m\n",
                        "\u001b[1;31mMatlabExecutionError\u001b[0m: \n  File C:\\Program Files\\MATLAB\\R2020b\\toolbox\\matlab\\imagesci\\imread.m, line 570, in get_full_filename\n\n  File C:\\Program Files\\MATLAB\\R2020b\\toolbox\\matlab\\imagesci\\imread.m, line 377, in imread\n\n  File C:\\Users\\Dell\\Documents\\LabView_FISH_PKU\\FISH_analysis_pipeline\\cell_segmentation.m, line 3, in cell_segmentation\nFile \"E:\\FISH_images_processed\\20210902-dNTPtest-3_processed\\stitched\\cyc_10_DAPI.tif\" does not exist.\n"
                    ]
                }
            ],
            "metadata": {}
        },
        {
            "cell_type": "code",
            "execution_count": null,
            "source": [
                "im = imread(os.path.join(stc_directory,'cyc_1_cy3.tif'))\r\n",
                "canvas = np.zeros(im.shape,dtype=np.uint16)\r\n",
                "for i in range(1,11):\r\n",
                "    for chn in ['cy3','cy5']:\r\n",
                "        img = imread(os.path.join(stc_directory,f'cyc_{i}_{chn}.tif'))\r\n",
                "        canvas += img / 20\r\n",
                "canvas = cv2.GaussianBlur(canvas,(9,9))\r\n",
                "imsave(os.path.join(stc_directory,'mean_cycle.tif'),canvas)"
            ],
            "outputs": [
                {
                    "output_type": "error",
                    "ename": "UFuncTypeError",
                    "evalue": "Cannot cast ufunc 'add' output from dtype('float64') to dtype('uint16') with casting rule 'same_kind'",
                    "traceback": [
                        "\u001b[1;31m---------------------------------------------------------------------------\u001b[0m",
                        "\u001b[1;31mUFuncTypeError\u001b[0m                            Traceback (most recent call last)",
                        "\u001b[1;32m<ipython-input-8-fb0ebb231656>\u001b[0m in \u001b[0;36m<module>\u001b[1;34m\u001b[0m\n\u001b[0;32m      4\u001b[0m     \u001b[1;32mfor\u001b[0m \u001b[0mchn\u001b[0m \u001b[1;32min\u001b[0m \u001b[1;33m[\u001b[0m\u001b[1;34m'cy3'\u001b[0m\u001b[1;33m,\u001b[0m\u001b[1;34m'cy5'\u001b[0m\u001b[1;33m]\u001b[0m\u001b[1;33m:\u001b[0m\u001b[1;33m\u001b[0m\u001b[1;33m\u001b[0m\u001b[0m\n\u001b[0;32m      5\u001b[0m         \u001b[0mimg\u001b[0m \u001b[1;33m=\u001b[0m \u001b[0mimread\u001b[0m\u001b[1;33m(\u001b[0m\u001b[0mos\u001b[0m\u001b[1;33m.\u001b[0m\u001b[0mpath\u001b[0m\u001b[1;33m.\u001b[0m\u001b[0mjoin\u001b[0m\u001b[1;33m(\u001b[0m\u001b[0mstc_directory\u001b[0m\u001b[1;33m,\u001b[0m\u001b[1;34mf'cyc_{i}_{chn}.tif'\u001b[0m\u001b[1;33m)\u001b[0m\u001b[1;33m)\u001b[0m\u001b[1;33m\u001b[0m\u001b[1;33m\u001b[0m\u001b[0m\n\u001b[1;32m----> 6\u001b[1;33m         \u001b[0mcanvas\u001b[0m \u001b[1;33m+=\u001b[0m \u001b[0mimg\u001b[0m \u001b[1;33m/\u001b[0m \u001b[1;36m20\u001b[0m\u001b[1;33m\u001b[0m\u001b[1;33m\u001b[0m\u001b[0m\n\u001b[0m\u001b[0;32m      7\u001b[0m \u001b[0mcanvas\u001b[0m \u001b[1;33m=\u001b[0m \u001b[0mcv2\u001b[0m\u001b[1;33m.\u001b[0m\u001b[0mGaussianBlur\u001b[0m\u001b[1;33m(\u001b[0m\u001b[0mcanvas\u001b[0m\u001b[1;33m,\u001b[0m\u001b[1;33m(\u001b[0m\u001b[1;36m9\u001b[0m\u001b[1;33m,\u001b[0m\u001b[1;36m9\u001b[0m\u001b[1;33m)\u001b[0m\u001b[1;33m)\u001b[0m\u001b[1;33m\u001b[0m\u001b[1;33m\u001b[0m\u001b[0m\n\u001b[0;32m      8\u001b[0m \u001b[0mimsave\u001b[0m\u001b[1;33m(\u001b[0m\u001b[0mos\u001b[0m\u001b[1;33m.\u001b[0m\u001b[0mpath\u001b[0m\u001b[1;33m.\u001b[0m\u001b[0mjoin\u001b[0m\u001b[1;33m(\u001b[0m\u001b[0mstc_directory\u001b[0m\u001b[1;33m,\u001b[0m\u001b[1;34m'mean_cycle.tif'\u001b[0m\u001b[1;33m)\u001b[0m\u001b[1;33m,\u001b[0m\u001b[0mcanvas\u001b[0m\u001b[1;33m)\u001b[0m\u001b[1;33m\u001b[0m\u001b[1;33m\u001b[0m\u001b[0m\n",
                        "\u001b[1;31mUFuncTypeError\u001b[0m: Cannot cast ufunc 'add' output from dtype('float64') to dtype('uint16') with casting rule 'same_kind'"
                    ]
                }
            ],
            "metadata": {}
        },
        {
            "cell_type": "code",
            "execution_count": null,
            "source": [
                "eng = matlab.engine.start_matlab()\r\n",
                "eng.cd('C:/Users/Dell/Documents/LabView_FISH_PKU/FISH_analysis_pipeline')\r\n",
                "eng.cell_segmentation(os.path.join(stc_directory,f'{nuclei_cyc_chn}.tif'),dest_directory,nargout=0)\r\n",
                "eng.quit()"
            ],
            "outputs": [],
            "metadata": {}
        },
        {
            "cell_type": "markdown",
            "source": [
                "## Generate Report"
            ],
            "metadata": {}
        },
        {
            "cell_type": "code",
            "execution_count": null,
            "source": [
                "for cyc_chn in report_cyc_chns:\r\n",
                "    cyc,chn = cyc_chn.split('_')[1:]\r\n",
                "    generate_report(RUN_ID,cyc,chn, 4 if chn=='cy5' else 2)\r\n",
                "integrate_report(RUN_ID,report_directory)\r\n",
                "os.chdir(r'C:\\Users\\Dell\\Documents\\LabView_FISH_PKU\\FISH_analysis_pipeline')"
            ],
            "outputs": [],
            "metadata": {}
        }
    ],
    "metadata": {
        "orig_nbformat": 4,
        "language_info": {
            "name": "python",
            "version": "3.8.5",
            "mimetype": "text/x-python",
            "codemirror_mode": {
                "name": "ipython",
                "version": 3
            },
            "pygments_lexer": "ipython3",
            "nbconvert_exporter": "python",
            "file_extension": ".py"
        },
        "kernelspec": {
            "name": "python3",
            "display_name": "Python 3.8.5 64-bit ('base': conda)"
        },
        "interpreter": {
            "hash": "b3ba2566441a7c06988d0923437866b63cedc61552a5af99d1f4fb67d367b25f"
        }
    },
    "nbformat": 4,
    "nbformat_minor": 2
}