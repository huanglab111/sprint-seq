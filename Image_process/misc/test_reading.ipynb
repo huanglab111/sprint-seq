{
 "cells": [
  {
   "cell_type": "code",
   "execution_count": 2,
   "metadata": {},
   "outputs": [
    {
     "name": "stdout",
     "output_type": "stream",
     "text": [
      "(38115, 61141)\n",
      "10.040621519088745\n"
     ]
    }
   ],
   "source": [
    "import numpy as np\n",
    "from glob import glob\n",
    "import os\n",
    "import time\n",
    "from skimage.io import imread\n",
    "\n",
    "BASE_DEST_DIRECTORY = r'\\\\10.10.10.1\\NAS Processed Images'\n",
    "RUN_ID = '20210927_seq2_AD_mouseBrain'\n",
    "dest_directory = os.path.join(BASE_DEST_DIRECTORY,f'{RUN_ID}_processed')\n",
    "stc_directory = os.path.join(dest_directory,'stitched')\n",
    "test_txt = os.path.join(r'E:\\Test','cyc_1_cy3.txt')\n",
    "test_txt = r'\\\\10.10.10.1\\Processed Images\\20210926_seq1_AD_mouseBrain_processed\\stitched\\cyc_10_DAPI.tif'\n",
    "t = time.time()\n",
    "im = imread(test_txt)\n",
    "print(im.shape)\n",
    "print(time.time()-t)"
   ]
  }
 ],
 "metadata": {
  "interpreter": {
   "hash": "b3ba2566441a7c06988d0923437866b63cedc61552a5af99d1f4fb67d367b25f"
  },
  "kernelspec": {
   "display_name": "Python 3.8.5 64-bit ('base': conda)",
   "name": "python3"
  },
  "language_info": {
   "codemirror_mode": {
    "name": "ipython",
    "version": 3
   },
   "file_extension": ".py",
   "mimetype": "text/x-python",
   "name": "python",
   "nbconvert_exporter": "python",
   "pygments_lexer": "ipython3",
   "version": "3.8.5"
  },
  "orig_nbformat": 4
 },
 "nbformat": 4,
 "nbformat_minor": 2
}
