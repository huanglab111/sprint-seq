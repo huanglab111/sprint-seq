{
 "cells": [
  {
   "cell_type": "code",
   "execution_count": 1,
   "metadata": {},
   "outputs": [],
   "source": [
    "import pandas as pd"
   ]
  },
  {
   "cell_type": "code",
   "execution_count": 2,
   "metadata": {},
   "outputs": [
    {
     "name": "stdout",
     "output_type": "stream",
     "text": [
      "58\n"
     ]
    },
    {
     "data": {
      "text/html": [
       "<div>\n",
       "<style scoped>\n",
       "    .dataframe tbody tr th:only-of-type {\n",
       "        vertical-align: middle;\n",
       "    }\n",
       "\n",
       "    .dataframe tbody tr th {\n",
       "        vertical-align: top;\n",
       "    }\n",
       "\n",
       "    .dataframe thead th {\n",
       "        text-align: right;\n",
       "    }\n",
       "</style>\n",
       "<table border=\"1\" class=\"dataframe\">\n",
       "  <thead>\n",
       "    <tr style=\"text-align: right;\">\n",
       "      <th></th>\n",
       "      <th>Name</th>\n",
       "      <th>Padlock</th>\n",
       "      <th>Gene</th>\n",
       "      <th>Barcode</th>\n",
       "    </tr>\n",
       "  </thead>\n",
       "  <tbody>\n",
       "    <tr>\n",
       "      <th>0</th>\n",
       "      <td>Trh</td>\n",
       "      <td>CAGAGAAGAGGGGCCCCCACTCCCTACACGACGCTCTTCCGATCTG...</td>\n",
       "      <td>Trh</td>\n",
       "      <td>GCTCGGCTGG</td>\n",
       "    </tr>\n",
       "    <tr>\n",
       "      <th>1</th>\n",
       "      <td>Oxt</td>\n",
       "      <td>CTGCAGCAGATGCCTGTGGCTCCCTACACGACGCTCTTCCGATCTG...</td>\n",
       "      <td>Oxt</td>\n",
       "      <td>GTGTCGCGGG</td>\n",
       "    </tr>\n",
       "    <tr>\n",
       "      <th>2</th>\n",
       "      <td>Th</td>\n",
       "      <td>CCGGATGGTGTGAGGACTGTTCCCTACACGACGCTCTTCCGATCTG...</td>\n",
       "      <td>Th</td>\n",
       "      <td>GTTGGCGTCG</td>\n",
       "    </tr>\n",
       "    <tr>\n",
       "      <th>3</th>\n",
       "      <td>Sst</td>\n",
       "      <td>TCTGGTTGGGCTCGGACAGCTCCCTACACGACGCTCTTCCGATCTG...</td>\n",
       "      <td>Sst</td>\n",
       "      <td>GCTGGTGCGC</td>\n",
       "    </tr>\n",
       "    <tr>\n",
       "      <th>4</th>\n",
       "      <td>Crh</td>\n",
       "      <td>GCGCTGAGGCATCTGCAGCTTCCCTACACGACGCTCTTCCGATCTG...</td>\n",
       "      <td>Crh</td>\n",
       "      <td>GGCGTGTGCG</td>\n",
       "    </tr>\n",
       "  </tbody>\n",
       "</table>\n",
       "</div>"
      ],
      "text/plain": [
       "  Name                                            Padlock Gene     Barcode\n",
       "0  Trh  CAGAGAAGAGGGGCCCCCACTCCCTACACGACGCTCTTCCGATCTG...  Trh  GCTCGGCTGG\n",
       "1  Oxt  CTGCAGCAGATGCCTGTGGCTCCCTACACGACGCTCTTCCGATCTG...  Oxt  GTGTCGCGGG\n",
       "2   Th  CCGGATGGTGTGAGGACTGTTCCCTACACGACGCTCTTCCGATCTG...   Th  GTTGGCGTCG\n",
       "3  Sst  TCTGGTTGGGCTCGGACAGCTCCCTACACGACGCTCTTCCGATCTG...  Sst  GCTGGTGCGC\n",
       "4  Crh  GCGCTGAGGCATCTGCAGCTTCCCTACACGACGCTCTTCCGATCTG...  Crh  GGCGTGTGCG"
      ]
     },
     "execution_count": 2,
     "metadata": {},
     "output_type": "execute_result"
    }
   ],
   "source": [
    "df = pd.read_csv('Qi_padlock_sequence.csv')\n",
    "df['Padlock'] = df['Padlock'].apply(lambda x: x.upper())\n",
    "def simplify_name(n):\n",
    "    if '-' not in n:\n",
    "        return n\n",
    "    else:\n",
    "        return n.split('-')[1]\n",
    "df['Gene'] = df['Name']#.apply(simplify_name)\n",
    "df['Barcode'] = df['Padlock'].apply(lambda x: x[45:55])\n",
    "print(len(df))\n",
    "#df.to_csv('98_plex_primer_sequence_0930_simple.csv',index=False)\n",
    "df.head()"
   ]
  },
  {
   "cell_type": "code",
   "execution_count": 3,
   "metadata": {},
   "outputs": [],
   "source": [
    "def overlap(seq_x,seq_y):\n",
    "    output = ''\n",
    "    for x,y in zip(seq_x,seq_y):\n",
    "        if x == y:\n",
    "            output += x\n",
    "        elif 'G' not in x+y:\n",
    "            output += 'A'\n",
    "        else:\n",
    "            if 'C' in x+y:\n",
    "                output += 'C'\n",
    "            elif 'T' in x+y:\n",
    "                output += 'T'\n",
    "    return output\n",
    "\n",
    "plex_df = df[['Gene','Barcode']]\n",
    "genes = list(df['Gene'])\n",
    "barcodes = list(df['Barcode'])\n",
    "plex_genes = []\n",
    "plex_barcodes = []\n",
    "for i in range(len(genes)):\n",
    "    for j in range(i+1,len(genes)):\n",
    "        plex_genes.append(f'{genes[i]}+{genes[j]}')\n",
    "        plex_barcodes.append(overlap(barcodes[i],barcodes[j]))\n",
    "temp_df = pd.DataFrame({'Gene':plex_genes,'Barcode':plex_barcodes})\n",
    "plex_df = pd.concat([plex_df,temp_df])\n",
    "#plex_df.to_csv('plex_map_0930.csv',index=False)\n",
    "        "
   ]
  },
  {
   "cell_type": "code",
   "execution_count": 4,
   "metadata": {},
   "outputs": [
    {
     "name": "stderr",
     "output_type": "stream",
     "text": [
      "  0%|          | 0/1711 [00:00<?, ?it/s]"
     ]
    },
    {
     "name": "stderr",
     "output_type": "stream",
     "text": [
      "100%|██████████| 1711/1711 [00:01<00:00, 1135.75it/s]\n"
     ]
    }
   ],
   "source": [
    "from tqdm import tqdm\n",
    "def hamming(x,y):\n",
    "    hamm = 0\n",
    "    for a,b in zip(x,y):\n",
    "        if a!=b:\n",
    "            hamm += 1\n",
    "    return hamm\n",
    "\n",
    "def orthogonality(l,n):\n",
    "    ambiguous = []\n",
    "    d = {i:0 for i in range(0,len(l[0])+1)}\n",
    "    for i in tqdm(range(len(l))):\n",
    "        for j in range(i+1,len(l)):\n",
    "            h = hamming(l[i],l[j])\n",
    "            d[h] += 1\n",
    "            if h <= 0:\n",
    "                ambiguous.append(f'{l[i]},{l[j]}')\n",
    "    return d,ambiguous\n",
    "\n",
    "d,a = orthogonality(list(plex_df['Barcode']),list(plex_df['Gene']))"
   ]
  },
  {
   "cell_type": "code",
   "execution_count": 5,
   "metadata": {},
   "outputs": [],
   "source": [
    "components = list(set(a))\n",
    "nodes = []\n",
    "for c in components:\n",
    "    nodes.append(c.split(',')[0])\n",
    "    nodes.append(c.split(',')[0])\n",
    "#print(set(nodes))"
   ]
  },
  {
   "cell_type": "code",
   "execution_count": 6,
   "metadata": {},
   "outputs": [
    {
     "name": "stdout",
     "output_type": "stream",
     "text": [
      "15\n"
     ]
    }
   ],
   "source": [
    "print(len(set(nodes)))"
   ]
  },
  {
   "cell_type": "code",
   "execution_count": 7,
   "metadata": {},
   "outputs": [
    {
     "name": "stdout",
     "output_type": "stream",
     "text": [
      "0\n"
     ]
    }
   ],
   "source": [
    "count = 0\n",
    "for item in list(set(nodes)):\n",
    "    if item in list(df['Barcode']):\n",
    "        count += 1\n",
    "print(count)"
   ]
  },
  {
   "cell_type": "code",
   "execution_count": 8,
   "metadata": {},
   "outputs": [
    {
     "name": "stdout",
     "output_type": "stream",
     "text": [
      "1680\n"
     ]
    }
   ],
   "source": [
    "plex_df_filtered = plex_df[plex_df['Barcode'].apply(lambda x: x not in set(nodes))]\n",
    "print(len(plex_df_filtered))"
   ]
  },
  {
   "cell_type": "code",
   "execution_count": 9,
   "metadata": {},
   "outputs": [
    {
     "name": "stderr",
     "output_type": "stream",
     "text": [
      "  0%|          | 0/1680 [00:00<?, ?it/s]"
     ]
    },
    {
     "name": "stderr",
     "output_type": "stream",
     "text": [
      "100%|██████████| 1680/1680 [00:01<00:00, 1156.08it/s]"
     ]
    },
    {
     "name": "stdout",
     "output_type": "stream",
     "text": [
      "{0: 0, 1: 437, 2: 4120, 3: 17286, 4: 50269, 5: 124614, 6: 245163, 7: 354861, 8: 350364, 9: 207906, 10: 55340}\n"
     ]
    },
    {
     "name": "stderr",
     "output_type": "stream",
     "text": [
      "\n"
     ]
    }
   ],
   "source": [
    "d,a = orthogonality(list(plex_df_filtered['Barcode']),list(plex_df_filtered['Gene']))\n",
    "print(d)"
   ]
  },
  {
   "cell_type": "code",
   "execution_count": 10,
   "metadata": {},
   "outputs": [],
   "source": [
    "plex_df_filtered.to_csv('Foodie_barcode.csv',index=False)"
   ]
  },
  {
   "cell_type": "code",
   "execution_count": 43,
   "metadata": {},
   "outputs": [
    {
     "name": "stdout",
     "output_type": "stream",
     "text": [
      "A 2\n",
      "T 4\n",
      "C 4\n",
      "G 12\n"
     ]
    }
   ],
   "source": [
    "l = list(plex_df_filtered['Barcode'])\n",
    "for c in ['A','T','C','G']:\n",
    "    m = max([s.count(c) for s in l])\n",
    "    print(c,m)"
   ]
  },
  {
   "cell_type": "code",
   "execution_count": 44,
   "metadata": {},
   "outputs": [
    {
     "name": "stdout",
     "output_type": "stream",
     "text": [
      "14\n"
     ]
    }
   ],
   "source": [
    "df1=plex_df_filtered[plex_df_filtered['Gene'].apply(lambda x:'+' not in x)]\n",
    "df1.head()\n",
    "print(len('GGGGGGGTGGGGGT'))"
   ]
  }
 ],
 "metadata": {
  "interpreter": {
   "hash": "b3ba2566441a7c06988d0923437866b63cedc61552a5af99d1f4fb67d367b25f"
  },
  "kernelspec": {
   "display_name": "Python 3.8.5 64-bit ('base': conda)",
   "name": "python3"
  },
  "language_info": {
   "codemirror_mode": {
    "name": "ipython",
    "version": 3
   },
   "file_extension": ".py",
   "mimetype": "text/x-python",
   "name": "python",
   "nbconvert_exporter": "python",
   "pygments_lexer": "ipython3",
   "version": "3.8.5"
  },
  "orig_nbformat": 4
 },
 "nbformat": 4,
 "nbformat_minor": 2
}
